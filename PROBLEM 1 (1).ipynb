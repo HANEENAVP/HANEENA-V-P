{
 "cells": [
  {
   "cell_type": "markdown",
   "id": "550375ef",
   "metadata": {},
   "source": [
    "#       1"
   ]
  },
  {
   "cell_type": "code",
   "execution_count": 1,
   "id": "d9f93cef",
   "metadata": {},
   "outputs": [
    {
     "name": "stdout",
     "output_type": "stream",
     "text": [
      "Enter the radius of circle3\n",
      "Area of circle= 28.259999999999998\n"
     ]
    }
   ],
   "source": [
    "r = float(input('Enter the radius of circle'))\n",
    "a=3.14*r*r\n",
    "print('Area of circle=',a)"
   ]
  },
  {
   "cell_type": "markdown",
   "id": "bd88decb",
   "metadata": {},
   "source": [
    "#        2"
   ]
  },
  {
   "cell_type": "code",
   "execution_count": 2,
   "id": "b70b7b9d",
   "metadata": {},
   "outputs": [
    {
     "name": "stdout",
     "output_type": "stream",
     "text": [
      "Enter the student name  Anisha\n"
     ]
    }
   ],
   "source": [
    "student_name=input('Enter the student name')"
   ]
  },
  {
   "cell_type": "code",
   "execution_count": 3,
   "id": "4bd3dff1",
   "metadata": {},
   "outputs": [
    {
     "name": "stdout",
     "output_type": "stream",
     "text": [
      "Enter the roll number21\n"
     ]
    }
   ],
   "source": [
    "roll_number=input('Enter the roll number')"
   ]
  },
  {
   "cell_type": "code",
   "execution_count": 4,
   "id": "57ccecf2",
   "metadata": {},
   "outputs": [
    {
     "name": "stdout",
     "output_type": "stream",
     "text": [
      "Enter the mark78\n"
     ]
    }
   ],
   "source": [
    "mark=input('Enter the mark')"
   ]
  },
  {
   "cell_type": "markdown",
   "id": "3a22cd02",
   "metadata": {},
   "source": [
    "#        3"
   ]
  },
  {
   "cell_type": "code",
   "execution_count": 4,
   "id": "a6982454",
   "metadata": {},
   "outputs": [],
   "source": [
    "list=[12,3,47,10]"
   ]
  },
  {
   "cell_type": "code",
   "execution_count": 5,
   "id": "3e06e244",
   "metadata": {},
   "outputs": [],
   "source": [
    "a=max(list)"
   ]
  },
  {
   "cell_type": "code",
   "execution_count": 6,
   "id": "bd772ea6",
   "metadata": {},
   "outputs": [
    {
     "name": "stdout",
     "output_type": "stream",
     "text": [
      "47\n"
     ]
    }
   ],
   "source": [
    "print(a)"
   ]
  },
  {
   "cell_type": "markdown",
   "id": "63412a78",
   "metadata": {},
   "source": [
    "# 4"
   ]
  },
  {
   "cell_type": "code",
   "execution_count": 18,
   "id": "510fb84d",
   "metadata": {},
   "outputs": [
    {
     "name": "stdout",
     "output_type": "stream",
     "text": [
      "current num 1 previous num 0 sum: 1\n",
      "current num 2 previous num 1 sum: 3\n",
      "current num 3 previous num 2 sum: 5\n",
      "current num 4 previous num 3 sum: 7\n",
      "current num 5 previous num 4 sum: 9\n",
      "current num 6 previous num 5 sum: 11\n",
      "current num 7 previous num 6 sum: 13\n",
      "current num 8 previous num 7 sum: 15\n",
      "current num 9 previous num 8 sum: 17\n",
      "current num 10 previous num 9 sum: 19\n"
     ]
    }
   ],
   "source": [
    "previous_num=0\n",
    "for i in range(1,11):\n",
    "    _sum=previous_num+i\n",
    "    print(\"current num\",i,\"previous num\",previous_num,\"sum:\",_sum)\n",
    "    previous_num=i"
   ]
  },
  {
   "cell_type": "markdown",
   "id": "c0764c00",
   "metadata": {},
   "source": [
    "# 5"
   ]
  },
  {
   "cell_type": "code",
   "execution_count": 21,
   "id": "292fbac8",
   "metadata": {},
   "outputs": [
    {
     "name": "stdout",
     "output_type": "stream",
     "text": [
      "Enter the number divisible by 5: 10\n",
      "the number is divisible by 5\n"
     ]
    }
   ],
   "source": [
    "n=int(input('Enter the number divisible by 5: '))\n",
    "if n%5==0:\n",
    "    print('the number is divisible by 5')\n",
    "else:\n",
    "        print('the number is not divisible by 5')"
   ]
  },
  {
   "cell_type": "markdown",
   "id": "ef96bb60",
   "metadata": {},
   "source": [
    "#### 6"
   ]
  },
  {
   "cell_type": "code",
   "execution_count": 1,
   "id": "93edf9d1",
   "metadata": {},
   "outputs": [
    {
     "name": "stdout",
     "output_type": "stream",
     "text": [
      "enter any num12\n",
      "12 is not prime\n"
     ]
    }
   ],
   "source": [
    "num=int(input('enter any num'))\n",
    "if num>1:\n",
    "    for i in range(2,num):\n",
    "        if(num%i)==0:\n",
    "            print(num,'is not prime')\n",
    "            break\n",
    "    else:\n",
    "        print(num,'is prime')\n",
    "else:\n",
    "    print(num,'is not prime')"
   ]
  },
  {
   "cell_type": "markdown",
   "id": "c89c01a0",
   "metadata": {},
   "source": [
    "# 7"
   ]
  },
  {
   "cell_type": "code",
   "execution_count": 3,
   "id": "f6b24ad7",
   "metadata": {},
   "outputs": [
    {
     "name": "stdout",
     "output_type": "stream",
     "text": [
      "input list: [10, 40, 30, 70]\n",
      "output=reversed input list:  [70, 30, 40, 10]\n"
     ]
    }
   ],
   "source": [
    "given_list=[10,40,30,70]\n",
    "print('input list:',given_list)\n",
    "given_list.reverse()\n",
    "print('output=reversed input list: ',given_list)\n"
   ]
  },
  {
   "cell_type": "markdown",
   "id": "a1ad69d8",
   "metadata": {},
   "source": [
    "# 8"
   ]
  },
  {
   "cell_type": "code",
   "execution_count": 8,
   "id": "f5ed2016",
   "metadata": {},
   "outputs": [
    {
     "name": "stdout",
     "output_type": "stream",
     "text": [
      "*\n",
      "**\n",
      "***\n",
      "****\n"
     ]
    }
   ],
   "source": [
    "for i in range(1,5):\n",
    "    print('*' * i)"
   ]
  },
  {
   "cell_type": "markdown",
   "id": "33cdb843",
   "metadata": {},
   "source": [
    "# 9"
   ]
  },
  {
   "cell_type": "code",
   "execution_count": 10,
   "id": "b48b161b",
   "metadata": {},
   "outputs": [
    {
     "name": "stdout",
     "output_type": "stream",
     "text": [
      "34\n"
     ]
    }
   ],
   "source": [
    "L=[34,12,7]\n",
    "print(max(L))"
   ]
  },
  {
   "cell_type": "markdown",
   "id": "82fb5e40",
   "metadata": {},
   "source": [
    "# 10"
   ]
  },
  {
   "cell_type": "code",
   "execution_count": 16,
   "id": "9e3cd82e",
   "metadata": {},
   "outputs": [
    {
     "name": "stdout",
     "output_type": "stream",
     "text": [
      "*\n",
      "**\n",
      "***\n",
      "****\n",
      "*****\n",
      "****\n",
      "***\n",
      "**\n",
      "*\n"
     ]
    }
   ],
   "source": [
    "num_rows=5\n",
    "for i in range(1,6):\n",
    "    print('*' * i)\n",
    "for i in range(4,0,-1):\n",
    "    print('*' * i)"
   ]
  },
  {
   "cell_type": "code",
   "execution_count": null,
   "id": "c13867df",
   "metadata": {},
   "outputs": [],
   "source": []
  }
 ],
 "metadata": {
  "kernelspec": {
   "display_name": "Python 3 (ipykernel)",
   "language": "python",
   "name": "python3"
  },
  "language_info": {
   "codemirror_mode": {
    "name": "ipython",
    "version": 3
   },
   "file_extension": ".py",
   "mimetype": "text/x-python",
   "name": "python",
   "nbconvert_exporter": "python",
   "pygments_lexer": "ipython3",
   "version": "3.11.3"
  }
 },
 "nbformat": 4,
 "nbformat_minor": 5
}
