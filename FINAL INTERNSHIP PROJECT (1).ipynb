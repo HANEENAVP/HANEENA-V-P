{
 "cells": [
  {
   "cell_type": "markdown",
   "metadata": {
    "id": "AvjaAwwwAJMv"
   },
   "source": [
    "The goal of this project is to build a model that can accurately predict the credit score of an individual based on their financial history and personal information.\n",
    "\n",
    "This project is a crucial component of my portfolio as it showcases my ability to work with real-world data, perform data cleaning and pre-processing, and apply machine learning algorithms to solve a practical problem"
   ]
  },
  {
   "cell_type": "code",
   "execution_count": null,
   "metadata": {
    "id": "9RZfBTwYvzMr"
   },
   "outputs": [],
   "source": []
  },
  {
   "cell_type": "code",
   "execution_count": null,
   "metadata": {
    "id": "9eunvdRW-TFw"
   },
   "outputs": [],
   "source": [
    "#import the libraries"
   ]
  },
  {
   "cell_type": "code",
   "execution_count": null,
   "metadata": {
    "id": "04n5AKOn0s2H"
   },
   "outputs": [],
   "source": [
    "import pandas as pd\n",
    "import numpy as np\n",
    "import matplotlib.pyplot as plt\n",
    "import seaborn as sns\n",
    "from sklearn import preprocessing\n",
    "from imblearn.over_sampling import SMOTE\n",
    "from sklearn.preprocessing import MinMaxScaler\n",
    "from sklearn.preprocessing import StandardScaler\n",
    "from sklearn.linear_model import LogisticRegression\n",
    "from sklearn.model_selection import StratifiedKFold,GridSearchCV\n",
    "from sklearn.model_selection import train_test_split,  cross_val_score\n",
    "from sklearn.metrics._plot.confusion_matrix import ConfusionMatrixDisplay\n",
    "from sklearn.metrics import classification_report,accuracy_score,confusion_matrix\n",
    "from sklearn.metrics import ConfusionMatrixDisplay\n",
    "from sklearn.model_selection import TimeSeriesSplit\n",
    "from sklearn.ensemble import RandomForestClassifier\n",
    "from sklearn.tree import DecisionTreeClassifier\n",
    "from sklearn.neighbors import KNeighborsClassifier\n",
    "from sklearn.svm import SVC\n",
    "\n",
    "import pickle\n",
    "\n",
    "import warnings\n",
    "warnings.filterwarnings(\"ignore\")"
   ]
  },
  {
   "cell_type": "code",
   "execution_count": null,
   "metadata": {
    "id": "JPsvmRX1-bt2"
   },
   "outputs": [],
   "source": [
    "#import the dataset"
   ]
  },
  {
   "cell_type": "code",
   "execution_count": null,
   "metadata": {
    "colab": {
     "base_uri": "https://localhost:8080/",
     "height": 586
    },
    "id": "31pmYugv2Ymi",
    "outputId": "dbd41183-60e3-4719-a970-4274059bb932"
   },
   "outputs": [],
   "source": [
    "data=pd.read_csv(r'/content/credit.csv')\n",
    "data.head(10)"
   ]
  },
  {
   "cell_type": "code",
   "execution_count": null,
   "metadata": {
    "colab": {
     "base_uri": "https://localhost:8080/"
    },
    "id": "ZIu6fHtJlJS4",
    "outputId": "11cdd1ca-7dd7-42d9-9c86-c10a093cb2ea"
   },
   "outputs": [],
   "source": [
    "\n",
    "data.shape"
   ]
  },
  {
   "cell_type": "code",
   "execution_count": null,
   "metadata": {
    "colab": {
     "base_uri": "https://localhost:8080/"
    },
    "id": "n7xTXVMP2inc",
    "outputId": "0d7e16d1-5a0b-413e-bc62-d1c61b559496"
   },
   "outputs": [],
   "source": [
    "data.columns"
   ]
  },
  {
   "cell_type": "code",
   "execution_count": null,
   "metadata": {
    "id": "mTYWZeuDwI5j"
   },
   "outputs": [],
   "source": [
    "#get the shape of object type of data"
   ]
  },
  {
   "cell_type": "code",
   "execution_count": null,
   "metadata": {
    "colab": {
     "base_uri": "https://localhost:8080/"
    },
    "id": "M2sJhu5n2nZ0",
    "outputId": "ae2a2ce4-7ae3-423d-f33d-3756472db7d3"
   },
   "outputs": [],
   "source": [
    "data.info()"
   ]
  },
  {
   "cell_type": "code",
   "execution_count": null,
   "metadata": {
    "id": "LMbc-l8Kktaq"
   },
   "outputs": [],
   "source": [
    "#the statistics summary of data"
   ]
  },
  {
   "cell_type": "code",
   "execution_count": null,
   "metadata": {
    "colab": {
     "base_uri": "https://localhost:8080/",
     "height": 349
    },
    "id": "BakEFKuf2qPX",
    "outputId": "0e492577-8487-44dd-8158-63584b7c7b2f"
   },
   "outputs": [],
   "source": [
    "data.describe()"
   ]
  },
  {
   "cell_type": "code",
   "execution_count": null,
   "metadata": {
    "id": "J7YAjN9L-yCY"
   },
   "outputs": [],
   "source": [
    "# to checking the missing records in each column"
   ]
  },
  {
   "cell_type": "code",
   "execution_count": null,
   "metadata": {
    "colab": {
     "base_uri": "https://localhost:8080/"
    },
    "id": "6vJEQrsg28iq",
    "outputId": "dfc1b6a6-930c-4f01-db82-81c97e24bb27"
   },
   "outputs": [],
   "source": [
    "data.isnull().sum()"
   ]
  },
  {
   "cell_type": "code",
   "execution_count": null,
   "metadata": {
    "id": "TqGLyyGA-4Yd"
   },
   "outputs": [],
   "source": [
    "#to find the duplicated rows"
   ]
  },
  {
   "cell_type": "code",
   "execution_count": null,
   "metadata": {
    "colab": {
     "base_uri": "https://localhost:8080/",
     "height": 99
    },
    "id": "mL7ftfCy-_-R",
    "outputId": "e17575cf-b31b-410b-c1a8-016f7fee3ae9"
   },
   "outputs": [],
   "source": [
    "data[data.duplicated(keep='first')]"
   ]
  },
  {
   "cell_type": "code",
   "execution_count": null,
   "metadata": {
    "id": "Os6HsoJh_DKS"
   },
   "outputs": [],
   "source": [
    "#arranging numerical and categorical columns"
   ]
  },
  {
   "cell_type": "code",
   "execution_count": null,
   "metadata": {
    "id": "uqhMLOdolBfU"
   },
   "outputs": [],
   "source": [
    "credit_cal=data.select_dtypes(include='object')\n",
    "credit_num=data.select_dtypes(include='number')"
   ]
  },
  {
   "cell_type": "code",
   "execution_count": null,
   "metadata": {
    "id": "RuLmEh13BV97"
   },
   "outputs": [],
   "source": []
  },
  {
   "cell_type": "markdown",
   "metadata": {
    "id": "Qluv8nF_xvi9"
   },
   "source": [
    "**OBSERVATION**"
   ]
  },
  {
   "cell_type": "markdown",
   "metadata": {
    "id": "SJaDiQ9yxz6j"
   },
   "source": [
    " Dataset contain 100,000 datapoints.This is the credit score of an individual based on their financial history and personal information."
   ]
  },
  {
   "cell_type": "code",
   "execution_count": null,
   "metadata": {
    "id": "Aql2fKVOCAqg"
   },
   "outputs": [],
   "source": []
  },
  {
   "cell_type": "code",
   "execution_count": null,
   "metadata": {
    "id": "jnoc6ZUY_JrM"
   },
   "outputs": [],
   "source": [
    "#Data visualisation"
   ]
  },
  {
   "cell_type": "markdown",
   "metadata": {
    "id": "3trOvnk98t4D"
   },
   "source": [
    "#EDA EXPLORATORY DATA ANALYSIS"
   ]
  },
  {
   "cell_type": "code",
   "execution_count": null,
   "metadata": {
    "colab": {
     "base_uri": "https://localhost:8080/",
     "height": 1000
    },
    "id": "zEJ23tJkBbdo",
    "outputId": "304fd75d-c9a9-451e-fe87-561a22c27e20"
   },
   "outputs": [],
   "source": [
    "# Create a figure and 2x3 grid of subplots\n",
    "fig, ax = plt.subplots(5, 3, figsize=(12, 20))\n",
    "\n",
    "# Flatten the 2D array of subplots into a 1D array\n",
    "ax = ax.flatten()\n",
    "\n",
    "# Plot multiple box plots on the same axis\n",
    "sns.boxplot(x='Credit_Score', y='Annual_Income', data=data, ax=ax[0])\n",
    "sns.boxplot(x='Credit_Score', y='Monthly_Inhand_Salary', data=data, ax=ax[1])\n",
    "sns.boxplot(x='Credit_Score', y='Num_Bank_Accounts', data=data, ax=ax[2])\n",
    "sns.boxplot(x='Credit_Score', y='Num_Credit_Card', data=data, ax=ax[3])\n",
    "sns.boxplot(x='Credit_Score', y='Interest_Rate', data=data, ax=ax[4])\n",
    "sns.boxplot(x='Credit_Score', y='Num_of_Loan', data=data, ax=ax[5])\n",
    "sns.boxplot(x='Credit_Score', y='Delay_from_due_date', data=data, ax=ax[6])\n",
    "sns.boxplot(x='Credit_Score', y='Num_of_Delayed_Payment', data=data, ax=ax[7])\n",
    "sns.boxplot(x='Credit_Score', y='Outstanding_Debt', data=data, ax=ax[8])\n",
    "sns.boxplot(x='Credit_Score', y='Credit_Utilization_Ratio', data=data, ax=ax[9])\n",
    "sns.boxplot(x='Credit_Score', y='Credit_History_Age', data=data, ax=ax[10])\n",
    "sns.boxplot(x='Credit_Score', y='Total_EMI_per_month', data=data, ax=ax[11])\n",
    "sns.boxplot(x='Credit_Score', y='Amount_invested_monthly', data=data, ax=ax[12])\n",
    "sns.boxplot(x='Credit_Score', y='Monthly_Balance', data=data, ax=ax[13])\n",
    "sns.boxplot(x='Credit_Score', y='Age', data=data, ax=ax[14])\n",
    "\n",
    "# Add a title and labels\n",
    "#plt.title('Relationship between Credit Score and Different Features')\n",
    "plt.xlabel('Credit Score')\n",
    "plt.ylabel('Feature Value')\n",
    "\n",
    "# Adjust the spacing between subplots\n",
    "fig.subplots_adjust(hspace=0.4, wspace=0.4)\n",
    "\n",
    "# Add a white grid\n",
    "for i in range(15):\n",
    "    ax[i].grid(color='white', linestyle='-', linewidth=2, alpha=0.5)\n",
    "\n",
    "# Add a title and labels\n",
    "fig.suptitle('Relationship between Credit Score and Different Features', fontsize=16, fontweight='bold')\n",
    "\n",
    "# Set the font size for all subplot titles\n",
    "titles = ['Annual Income', 'Monthly Inhand Salary', 'Number of Bank Accounts', 'Number of Credit Cards',\n",
    "          'Interest Rate', 'Number of Loans', 'Delay from Due Date', 'Number of Delayed Payments',\n",
    "          'Outstanding Debt', 'Credit Utilization Score', 'Credit History Age', 'Total EMI Per Month',\n",
    "          'Amount Invested Monthly', 'Monthly Balance', 'Age']\n",
    "for i in range(15):\n",
    "    ax[i].set_title(titles[i], fontsize=14, fontweight='bold')\n",
    "\n",
    "    # Set the font size for all x and y labels\n",
    "for i in range(15):\n",
    "    ax[i].set_xlabel('Credit Score', fontsize=12)\n",
    "    ax[i].set_ylabel('Feature Value', fontsize=12)\n",
    "\n",
    "# Show the plot\n",
    "plt.show()"
   ]
  },
  {
   "cell_type": "markdown",
   "metadata": {
    "id": "YEbU49cgDj7U"
   },
   "source": [
    "\n",
    "**INFERENCE**\n",
    "\n",
    "From the 15 box plots above, we can deduce the following:\n",
    "\n",
    "1.  The more someone earns anually, the better their credit score is\n",
    "2.  Similar to annual income, a higher monthly in-hand salary leads to\n",
    "    a better credit score.\n",
    "3.  The ideal number of bank accounts is 2 - 4. Having more than 5\n",
    "   negatively affects your credit score.\n",
    "4.  Similar to bank accounts, having more than 5 credit cards will\n",
    "   negatively affect your credit scores. The ideal number is 3-5.\n",
    "5.  4 - 11% is the sweet spot for average instest rate.     \n",
    "   Anything above 15% is a no-no.\n",
    "6.  Take 1-3 loans at a time inorder to keep a good credit score.\n",
    "    Having more than 3 loans negatively impacts credtit scores.\n",
    "7.  To maintain a good credit score, you have a 5-14 day delay window.  \n",
    "    Delaying for more than 17 days affects your credit score negatively.\n",
    "8.  Delaying 4-12 payments from the due date is the safety window.  \n",
    "    Anything above 12 payments negatively affexts credit scores.\n",
    "9.  An outstanding debt of 1150 will not affect your credit scores, but\n",
    "    going above $1338 affects your credit scores negatively.\n",
    "10. Your credit utilization ratio doesn’t affect your credit scores.\n",
    "11. Having a long credit history results in better credit scores.\n",
    "12. The number of EMIs you are paying in a month doesn’t affect credit\n",
    "    scores that much.\n",
    "13. How much you invest monthly doesn’t really affect your credit\n",
    "    scores.\n",
    "14. Having a high monthly balance in your account at the end of the month is good for your credit scores.\n",
    "15. Credit scores tend to improve with an increase in age."
   ]
  },
  {
   "cell_type": "code",
   "execution_count": null,
   "metadata": {
    "id": "A1inBNG1vKmP"
   },
   "outputs": [],
   "source": [
    "#Histplot of credit_score"
   ]
  },
  {
   "cell_type": "code",
   "execution_count": null,
   "metadata": {
    "colab": {
     "base_uri": "https://localhost:8080/",
     "height": 52
    },
    "id": "tB3JXwdUAlsw",
    "outputId": "d2c55db6-ed9a-4f57-b21f-c65c0d0cb0f9"
   },
   "outputs": [],
   "source": [
    "plt.figure(figsize=(12,6))"
   ]
  },
  {
   "cell_type": "code",
   "execution_count": null,
   "metadata": {
    "colab": {
     "base_uri": "https://localhost:8080/",
     "height": 450
    },
    "id": "iUFi_q55A_C4",
    "outputId": "3e73512d-6862-4557-a2ae-07e450fe6313"
   },
   "outputs": [],
   "source": [
    "plt.subplot(1,2,1)\n",
    "sns.histplot(data['Credit_Score'],bins=30,kde=True,color='blue')\n",
    "plt.show()"
   ]
  },
  {
   "cell_type": "markdown",
   "metadata": {
    "id": "IMiuGPd4AvD0"
   },
   "source": [
    "**INFERENCE**"
   ]
  },
  {
   "cell_type": "markdown",
   "metadata": {
    "id": "o4Thb5WDA1ge"
   },
   "source": [
    "The histogram plot of credit scores reveals a roughly symmetric distribution, indicating that the majority of individuals have credit scores clustered around the central tendency"
   ]
  },
  {
   "cell_type": "code",
   "execution_count": null,
   "metadata": {
    "id": "aWn0xbz3AlSk"
   },
   "outputs": [],
   "source": []
  },
  {
   "cell_type": "code",
   "execution_count": null,
   "metadata": {
    "colab": {
     "base_uri": "https://localhost:8080/",
     "height": 1000
    },
    "id": "qtdsbcKyoOnm",
    "outputId": "b8458cdc-0b1c-445f-afef-9e3e0e74fd5e"
   },
   "outputs": [],
   "source": [
    "corr_format= credit_num.corr()\n",
    "corr_format"
   ]
  },
  {
   "cell_type": "code",
   "execution_count": null,
   "metadata": {
    "colab": {
     "base_uri": "https://localhost:8080/",
     "height": 624
    },
    "id": "KxWYFIasDFRM",
    "outputId": "44129302-a6ca-4e82-9b7b-a7e3f25a0db8"
   },
   "outputs": [],
   "source": [
    "#correlation Analysis\n",
    "correlation_matrix = corr_format.corr()\n",
    "sns.heatmap(correlation_matrix, cmap='coolwarm')\n",
    "plt.title('Correlation Matrix')\n",
    "plt.show()\n"
   ]
  },
  {
   "cell_type": "code",
   "execution_count": null,
   "metadata": {
    "id": "5elWs24TAmcE"
   },
   "outputs": [],
   "source": []
  },
  {
   "cell_type": "code",
   "execution_count": null,
   "metadata": {
    "colab": {
     "base_uri": "https://localhost:8080/",
     "height": 1000
    },
    "id": "VJhZemiKEEjM",
    "outputId": "5833a60f-ea7d-4bb6-c4ef-d573a90e8f85"
   },
   "outputs": [],
   "source": [
    "# Pairplot for Numerical Variables\n",
    "\n",
    "sns.pairplot(credit_num)\n",
    "plt.suptitle('Pairplot of Numerical Variables', y=1.02)"
   ]
  },
  {
   "cell_type": "code",
   "execution_count": null,
   "metadata": {
    "colab": {
     "base_uri": "https://localhost:8080/"
    },
    "id": "aWtyfJuAC4hH",
    "outputId": "6bac90ae-ea12-406f-848e-f8fc1d447171"
   },
   "outputs": [],
   "source": [
    "data['Credit_Score'].value_counts()"
   ]
  },
  {
   "cell_type": "code",
   "execution_count": null,
   "metadata": {
    "colab": {
     "base_uri": "https://localhost:8080/",
     "height": 489
    },
    "id": "c5tm_lR7jViG",
    "outputId": "b76de7d1-ac67-4a89-c9f4-0e60b2e1d853"
   },
   "outputs": [],
   "source": [
    "#count plot of categorical variable(credit_score)\n",
    "sns.countplot(x='Credit_Score',data=data)\n",
    "plt.title('credit_score distribution')\n"
   ]
  },
  {
   "cell_type": "markdown",
   "metadata": {
    "id": "KYvKDJYaBWCF"
   },
   "source": [
    "**INFERENCE**"
   ]
  },
  {
   "cell_type": "markdown",
   "metadata": {
    "id": "8PXY-D9nBaab"
   },
   "source": [
    "Credit scores are namely Good,Standard and poor.  53174 data points belongs to standard category, 28998 data points belongs to poor  and 17828 belongs to Good."
   ]
  },
  {
   "cell_type": "markdown",
   "metadata": {
    "id": "3FJIZVRtZMZ0"
   },
   "source": [
    "DEMOGRAPHIC ANALYSIS"
   ]
  },
  {
   "cell_type": "code",
   "execution_count": null,
   "metadata": {
    "id": "y68aQcSeGWJ-"
   },
   "outputs": [],
   "source": [
    "#histplot of credict score by occupation"
   ]
  },
  {
   "cell_type": "code",
   "execution_count": null,
   "metadata": {
    "colab": {
     "base_uri": "https://localhost:8080/",
     "height": 570
    },
    "id": "6OecYwbUozBg",
    "outputId": "3c51fb64-91d3-42ae-c064-c1c16d067114"
   },
   "outputs": [],
   "source": [
    "plt.figure(figsize=(14,7))\n",
    "sns.histplot(hue='Occupation',x='Credit_Score',data=data ,bins=30, kde=True)\n",
    "plt.title('Credit_Score by occupation level')\n",
    "plt.tight_layout()\n",
    "plt.show()"
   ]
  },
  {
   "cell_type": "markdown",
   "metadata": {
    "id": "J7XYW-o6Djsz"
   },
   "source": [
    "**INFERENCE**"
   ]
  },
  {
   "cell_type": "markdown",
   "metadata": {
    "id": "4GcHAxUKDnuy"
   },
   "source": [
    "The histogram plot comparing credit scores across different occupations reveals interesting insights into the distribution of credit scores within each occupation category..We observe that the distribution of credit scores varies noticeably across occupations, indicating potential differences in creditworthiness among different groups of individuals. The distribution of credit scores across occupations underscore the importance of considering occupation as a factor in credit assessment and risk management."
   ]
  },
  {
   "cell_type": "code",
   "execution_count": null,
   "metadata": {
    "colab": {
     "base_uri": "https://localhost:8080/",
     "height": 489
    },
    "id": "k1SPunGMaxkz",
    "outputId": "78c59789-94fe-48c6-95cf-dd2dcbb057f3"
   },
   "outputs": [],
   "source": [
    "# Scatter plot for Outstanding Debts vs. Credit Scores\n",
    "sns.scatterplot(x='Outstanding_Debt', y='Credit_Score', data=data, alpha=0.7, color='green')\n",
    "plt.title('Outstanding Debts vs. Credit Scores')\n",
    "plt.xlabel('Outstanding Debts')\n",
    "plt.ylabel('Credit Score')"
   ]
  },
  {
   "cell_type": "markdown",
   "metadata": {
    "id": "XXR6FKMMiKsa"
   },
   "source": [
    "**INFERENCE**"
   ]
  },
  {
   "cell_type": "markdown",
   "metadata": {
    "id": "XLv6xw1EFDK3"
   },
   "source": [
    "There is a negative correlation between outstanding debts and credit scores.that is as outstanding debts increase, credit scores tend to decrease"
   ]
  },
  {
   "cell_type": "code",
   "execution_count": null,
   "metadata": {
    "colab": {
     "base_uri": "https://localhost:8080/",
     "height": 489
    },
    "id": "6sFqzKh2bDdk",
    "outputId": "6ef12b4d-02c7-4b9a-f57c-a5cd44130b02"
   },
   "outputs": [],
   "source": [
    "# Scatter plot for Credit Utilization Ratio vs. Credit Scores\n",
    "plt.subplot(1, 2, 1)\n",
    "sns.scatterplot(x='Credit_Utilization_Ratio', y='Credit_Score', data=data, alpha=0.7, color='blue')\n",
    "plt.title('Credit Utilization Ratio vs. Credit Scores')\n",
    "plt.xlabel('Credit Utilization (monthly Balance / changed Credit Limit)')\n",
    "plt.ylabel('Credit Score')"
   ]
  },
  {
   "cell_type": "markdown",
   "metadata": {
    "id": "jqbeH9YvjDp3"
   },
   "source": [
    "**INFERENCE**"
   ]
  },
  {
   "cell_type": "markdown",
   "metadata": {
    "id": "AD768wmEjGqi"
   },
   "source": [
    "There is a relationship between credit utilization ratio and credit scores, indicating its impact on individual creditworthiness.\n",
    "\n",
    "Explanation: By observing the scatter plot, we can infer that individuals with lower credit utilization ratios tend to have higher credit scores, while those with higher credit utilization ratios tend to have lower credit scores."
   ]
  },
  {
   "cell_type": "markdown",
   "metadata": {
    "id": "xfvXYpJVc_7a"
   },
   "source": [
    "PAYMENT ANALYSIS"
   ]
  },
  {
   "cell_type": "code",
   "execution_count": null,
   "metadata": {
    "colab": {
     "base_uri": "https://localhost:8080/",
     "height": 489
    },
    "id": "_b9MYd5tdBuI",
    "outputId": "52258552-3bb6-4589-8bed-a2e83090ab06"
   },
   "outputs": [],
   "source": [
    "# Box plot for Late Payments vs. Credit Scores\n",
    "sns.boxplot(x='Num_of_Delayed_Payment', y='Credit_Score', data=data, palette='Blues')\n",
    "plt.title('Delayed Payments vs. Credit Scores')\n",
    "plt.xlabel('Number of Delayed Payments')\n",
    "plt.ylabel('Credit Score')"
   ]
  },
  {
   "cell_type": "markdown",
   "metadata": {
    "id": "l0WXUmx1jbzp"
   },
   "source": [
    "**INFERENCE**"
   ]
  },
  {
   "cell_type": "markdown",
   "metadata": {
    "id": "55Ped3BhjfY8"
   },
   "source": [
    "There is a relationship between credit scores and the likelihood of making late payments.\n",
    "\n",
    "Explanation: By examining the box plot, if we observe that individuals with lower credit scores tend to have a wider spread of late payments and higher median number of late payments compared to individuals with higher credit scores, we can infer that there is a correlation between credit scores and the frequency of late payments"
   ]
  },
  {
   "cell_type": "code",
   "execution_count": null,
   "metadata": {
    "colab": {
     "base_uri": "https://localhost:8080/",
     "height": 342
    },
    "id": "2S-BHI0I8R9j",
    "outputId": "cadaef23-4813-4cf5-c7fe-181fbe312c1f"
   },
   "outputs": [],
   "source": [
    "data.head()"
   ]
  },
  {
   "cell_type": "code",
   "execution_count": null,
   "metadata": {
    "id": "etnmok4qJFG2"
   },
   "outputs": [],
   "source": [
    "#drop unwanted columns"
   ]
  },
  {
   "cell_type": "code",
   "execution_count": null,
   "metadata": {
    "id": "BOoRizuU70jm"
   },
   "outputs": [],
   "source": [
    "data.drop(['Customer_ID','ID','Month','Name','SSN','Type_of_Loan','Credit_History_Age','Interest_Rate','Changed_Credit_Limit','Credit_Utilization_Ratio'],axis=1,inplace=True)"
   ]
  },
  {
   "cell_type": "code",
   "execution_count": null,
   "metadata": {
    "colab": {
     "base_uri": "https://localhost:8080/",
     "height": 226
    },
    "id": "6NxzZ5UJlhzG",
    "outputId": "0ea5a980-cb89-4a47-ce2b-ccfb5fbff561"
   },
   "outputs": [],
   "source": [
    "data.head()"
   ]
  },
  {
   "cell_type": "code",
   "execution_count": null,
   "metadata": {
    "colab": {
     "base_uri": "https://localhost:8080/"
    },
    "id": "ftrYBi2kDYfT",
    "outputId": "0d8d02e7-31d0-4355-a001-ee82e415d0d8"
   },
   "outputs": [],
   "source": [
    "data.columns"
   ]
  },
  {
   "cell_type": "code",
   "execution_count": null,
   "metadata": {
    "id": "tuSmuPnWFqhJ"
   },
   "outputs": [],
   "source": [
    "numeric_cols= data.select_dtypes(exclude='object').columns\n",
    "cat_cols= data.select_dtypes(include='object').columns"
   ]
  },
  {
   "cell_type": "code",
   "execution_count": null,
   "metadata": {
    "colab": {
     "base_uri": "https://localhost:8080/"
    },
    "id": "t9rdka2LEFnO",
    "outputId": "fd327cc7-628a-4d50-ef5a-b3766cc6b194"
   },
   "outputs": [],
   "source": [
    "numeric_cols"
   ]
  },
  {
   "cell_type": "code",
   "execution_count": null,
   "metadata": {
    "colab": {
     "base_uri": "https://localhost:8080/"
    },
    "id": "oRI0ndEAEF0o",
    "outputId": "7dbbfc73-5a07-45e6-9df9-ef34c30c6b57"
   },
   "outputs": [],
   "source": [
    "cat_cols"
   ]
  },
  {
   "cell_type": "code",
   "execution_count": null,
   "metadata": {
    "id": "8H6L9aCZjmkj"
   },
   "outputs": [],
   "source": []
  },
  {
   "cell_type": "markdown",
   "metadata": {
    "id": "VQ6dftiMN89o"
   },
   "source": [
    "PIE CHART"
   ]
  },
  {
   "cell_type": "code",
   "execution_count": null,
   "metadata": {
    "colab": {
     "base_uri": "https://localhost:8080/",
     "height": 675
    },
    "id": "M7nbB63kQcQx",
    "outputId": "78853669-f5d5-440d-92cd-616b2bba70ea"
   },
   "outputs": [],
   "source": [
    "# Assuming 'creditscore' is the name of the column containing credit scores\n",
    "credit_score_counts = data['Credit_Score'].value_counts()\n",
    "\n",
    "# Plot pie chart\n",
    "plt.figure(figsize=(8, 8))\n",
    "plt.pie(credit_score_counts, labels=credit_score_counts.index, autopct='%1.1f%%', startangle=140)\n",
    "plt.title('Distribution of Credit Scores')\n",
    "plt.show()\n"
   ]
  },
  {
   "cell_type": "markdown",
   "metadata": {
    "id": "aj6w_Yr3RNGz"
   },
   "source": [
    "**INFERENCE**"
   ]
  },
  {
   "cell_type": "markdown",
   "metadata": {
    "id": "dwjQMF8vRQwv"
   },
   "source": [
    "In analyzing the credit score distribution of our dataset, it's evident that a significant portion of individuals have been categorized as having a 'good' credit score, representing approximately 17.8%  suggesting that a minority of applicants may have credit challenges or issues that could pose higher risk for lenders.. This suggests that the minority of applicants may have a favorable credit history, which could indicate a lower risk profile for lenders. Conversely, 'standard' credit scores account for around 53.2% of the dataset, indicating a majority of applicants may have a favourable credit history. Finally, 'poor' credit scores constitute a average proportion, roughly 29%, suggesting that a average of applicants may have credit challenges or issues that could pose higher risk for lenders. Understanding these distributions is crucial for risk assessment and decision-making in lending practices."
   ]
  },
  {
   "cell_type": "markdown",
   "metadata": {
    "id": "xl6LpVeApYPJ"
   },
   "source": [
    "#CHECK AND DROP OUTLIERS"
   ]
  },
  {
   "cell_type": "code",
   "execution_count": null,
   "metadata": {
    "colab": {
     "base_uri": "https://localhost:8080/",
     "height": 443
    },
    "id": "3bh8VF77vvkc",
    "outputId": "cfc168a1-72d3-4c79-994b-2c59fe659b52"
   },
   "outputs": [],
   "source": [
    "# Drop outlier by IQR calculation\n",
    "Q1 = data.Annual_Income.quantile(0.25)\n",
    "Q3 = data.Annual_Income.quantile(0.75)\n",
    "IQR = Q3 - Q1\n",
    "df_cleaned = data.drop(data.loc[data['Annual_Income'] > (Q3 + 1.5 * IQR)].index)\n",
    "df_cleaned = data.drop(data.loc[data['Annual_Income'] < (Q1 - 1.5 * IQR)].index)\n",
    "df_cleaned\n"
   ]
  },
  {
   "cell_type": "code",
   "execution_count": null,
   "metadata": {
    "colab": {
     "base_uri": "https://localhost:8080/",
     "height": 467
    },
    "id": "_KtEy8Tsvvnu",
    "outputId": "98b000a2-fd9b-4622-d8fb-dd9346193fdb"
   },
   "outputs": [],
   "source": [
    "sns.boxplot(x=df_cleaned['Annual_Income'])"
   ]
  },
  {
   "cell_type": "markdown",
   "metadata": {
    "id": "-Yzad84OkFy9"
   },
   "source": [
    "#STANDARDISING"
   ]
  },
  {
   "cell_type": "code",
   "execution_count": null,
   "metadata": {
    "id": "0GRy1_2MkOOr"
   },
   "outputs": [],
   "source": [
    "col=(['Age','Annual_Income','Outstanding_Debt'])"
   ]
  },
  {
   "cell_type": "code",
   "execution_count": null,
   "metadata": {
    "id": "mFLg30ZNnKB8"
   },
   "outputs": [],
   "source": [
    "col_std=data[col]"
   ]
  },
  {
   "cell_type": "code",
   "execution_count": null,
   "metadata": {
    "id": "YcEh5DHajmoL"
   },
   "outputs": [],
   "source": [
    "scaler = StandardScaler()\n",
    "scaled_data = scaler.fit_transform(col_std)"
   ]
  },
  {
   "cell_type": "markdown",
   "metadata": {
    "id": "KH9OnqNFHVsU"
   },
   "source": [
    "#ENCODING"
   ]
  },
  {
   "cell_type": "code",
   "execution_count": null,
   "metadata": {
    "id": "Z5JDc1C1MApk"
   },
   "outputs": [],
   "source": [
    "#obtaining their counts"
   ]
  },
  {
   "cell_type": "code",
   "execution_count": null,
   "metadata": {
    "colab": {
     "base_uri": "https://localhost:8080/"
    },
    "id": "U8mS16ZVHW_G",
    "outputId": "76049c8f-7251-479a-8dc3-5cdc1e3f360a"
   },
   "outputs": [],
   "source": [
    "data['Credit_Mix'].value_counts()"
   ]
  },
  {
   "cell_type": "code",
   "execution_count": null,
   "metadata": {
    "colab": {
     "base_uri": "https://localhost:8080/"
    },
    "id": "rRPRxvfKI4HE",
    "outputId": "305f169c-89b4-4e55-e768-b01550c29975"
   },
   "outputs": [],
   "source": [
    "data['Occupation'].value_counts()"
   ]
  },
  {
   "cell_type": "code",
   "execution_count": null,
   "metadata": {
    "colab": {
     "base_uri": "https://localhost:8080/"
    },
    "id": "99DTRIuxHgU3",
    "outputId": "3980a7bc-68d9-40ad-a26d-e829afd41d5c"
   },
   "outputs": [],
   "source": [
    "data['Payment_of_Min_Amount'].value_counts()"
   ]
  },
  {
   "cell_type": "code",
   "execution_count": null,
   "metadata": {
    "colab": {
     "base_uri": "https://localhost:8080/"
    },
    "id": "zvm00cxtHoW-",
    "outputId": "1445ea01-4280-4b96-cfcc-eab00d6b999e"
   },
   "outputs": [],
   "source": [
    "data['Payment_Behaviour'].value_counts()"
   ]
  },
  {
   "cell_type": "code",
   "execution_count": null,
   "metadata": {
    "id": "OGyhWWu1HwJu"
   },
   "outputs": [],
   "source": [
    "from sklearn.preprocessing import LabelEncoder"
   ]
  },
  {
   "cell_type": "code",
   "execution_count": null,
   "metadata": {
    "id": "8cBrjFQIIAcw"
   },
   "outputs": [],
   "source": [
    "le=LabelEncoder()"
   ]
  },
  {
   "cell_type": "code",
   "execution_count": null,
   "metadata": {
    "id": "MkIT55f_IM7j"
   },
   "outputs": [],
   "source": [
    "data['Occupation_encoded']=le.fit_transform(data['Occupation'])"
   ]
  },
  {
   "cell_type": "code",
   "execution_count": null,
   "metadata": {
    "id": "64WkoBCbItLu"
   },
   "outputs": [],
   "source": [
    "data['Credit_Mix_encoded']=le.fit_transform(data['Credit_Mix'])"
   ]
  },
  {
   "cell_type": "code",
   "execution_count": null,
   "metadata": {
    "id": "nKOvyjc9Mjua"
   },
   "outputs": [],
   "source": [
    "data['Payment_of_Min_Amount_encoded']=le.fit_transform(data['Payment_of_Min_Amount'])"
   ]
  },
  {
   "cell_type": "code",
   "execution_count": null,
   "metadata": {
    "id": "3mXHP4NjMsAp"
   },
   "outputs": [],
   "source": [
    "data['Payment_Behaviour_encoded']=le.fit_transform(data['Payment_Behaviour'])"
   ]
  },
  {
   "cell_type": "code",
   "execution_count": null,
   "metadata": {
    "colab": {
     "base_uri": "https://localhost:8080/"
    },
    "id": "pgfWfg4tQNcC",
    "outputId": "daa6c5d3-ded8-4ac1-cbbf-a3653540f235"
   },
   "outputs": [],
   "source": [
    "print(data)"
   ]
  },
  {
   "cell_type": "code",
   "execution_count": null,
   "metadata": {
    "colab": {
     "base_uri": "https://localhost:8080/",
     "height": 255
    },
    "id": "iiLCx9fbMxa3",
    "outputId": "d5ee2116-8339-4169-fff1-dfda6651f50a"
   },
   "outputs": [],
   "source": [
    "data.head()"
   ]
  },
  {
   "cell_type": "markdown",
   "metadata": {
    "id": "MC2mJLhc8HWP"
   },
   "source": []
  },
  {
   "cell_type": "code",
   "execution_count": null,
   "metadata": {
    "colab": {
     "base_uri": "https://localhost:8080/"
    },
    "id": "ZwYnOmuZVuoQ",
    "outputId": "362e4f0e-8f53-42a4-b1e4-f55f51f70eea"
   },
   "outputs": [],
   "source": [
    "data.columns"
   ]
  },
  {
   "cell_type": "code",
   "execution_count": null,
   "metadata": {
    "id": "ig8_cFUUVuOv"
   },
   "outputs": [],
   "source": [
    "#remove the main encoded columns"
   ]
  },
  {
   "cell_type": "code",
   "execution_count": null,
   "metadata": {
    "colab": {
     "base_uri": "https://localhost:8080/",
     "height": 226
    },
    "id": "Putd9nvDKyyx",
    "outputId": "1953bdbe-0ab4-4eb7-fac5-537f08de2685"
   },
   "outputs": [],
   "source": [
    "data.drop(['Occupation','Credit_Mix','Payment_of_Min_Amount','Payment_Behaviour'],axis=1,inplace=True)\n",
    "data.head()"
   ]
  },
  {
   "cell_type": "code",
   "execution_count": null,
   "metadata": {
    "colab": {
     "base_uri": "https://localhost:8080/"
    },
    "id": "7HiPvWq18I5W",
    "outputId": "14abce5a-6049-4d0f-ce65-eb322edb4936"
   },
   "outputs": [],
   "source": [
    "data.info()"
   ]
  },
  {
   "cell_type": "code",
   "execution_count": null,
   "metadata": {
    "colab": {
     "base_uri": "https://localhost:8080/"
    },
    "id": "6UlqgRHxkJt7",
    "outputId": "ea28b2b9-7b75-4a86-8c94-a8b047d1be54"
   },
   "outputs": [],
   "source": [
    "data.columns"
   ]
  },
  {
   "cell_type": "code",
   "execution_count": null,
   "metadata": {
    "id": "ieVY2zxcGJSI"
   },
   "outputs": [],
   "source": [
    "col=(['Age','Occupation_encoded','Annual_Income', 'Monthly_Inhand_Salary', 'Num_Bank_Accounts','Num_Credit_Card','Delay_from_due_date' ,'Num_of_Loan','Payment_of_Min_Amount_encoded','Num_of_Delayed_Payment',\n",
    "'Num_Credit_Inquiries','Credit_Mix_encoded','Outstanding_Debt','Total_EMI_per_month','Amount_invested_monthly', 'Monthly_Balance','Payment_Behaviour_encoded','Credit_Score'])"
   ]
  },
  {
   "cell_type": "code",
   "execution_count": null,
   "metadata": {
    "colab": {
     "base_uri": "https://localhost:8080/"
    },
    "id": "egvOsv0h3q9w",
    "outputId": "476e430d-3f1f-4c9a-e4a0-2d82be0ce516"
   },
   "outputs": [],
   "source": [
    "data['Credit_Score']= LabelEncoder().fit_transform(data['Credit_Score'])\n",
    "data['Credit_Score'].value_counts()#good,poor,standard."
   ]
  },
  {
   "cell_type": "code",
   "execution_count": null,
   "metadata": {
    "colab": {
     "base_uri": "https://localhost:8080/"
    },
    "id": "NWbOtCge6peK",
    "outputId": "d71a876f-8913-4150-e440-761884cf8508"
   },
   "outputs": [],
   "source": [
    "data['Credit_Score'].unique()"
   ]
  },
  {
   "cell_type": "code",
   "execution_count": null,
   "metadata": {
    "id": "l5mq7jRi-TqT"
   },
   "outputs": [],
   "source": []
  },
  {
   "cell_type": "markdown",
   "metadata": {
    "id": "t8J6lxjfaZUG"
   },
   "source": [
    "#creating csv file"
   ]
  },
  {
   "cell_type": "code",
   "execution_count": null,
   "metadata": {
    "id": "kWppozaHrX9n"
   },
   "outputs": [],
   "source": [
    "#generating new_data csv to read dataframe and do feature evaluation and prediction\n",
    "df1=data.to_csv(\"final_credit_data.csv\",index=False)\n",
    "df1"
   ]
  },
  {
   "cell_type": "markdown",
   "metadata": {
    "id": "YT7LFNTdGiEA"
   },
   "source": [
    "#SPLITTING DATASET"
   ]
  },
  {
   "cell_type": "code",
   "execution_count": null,
   "metadata": {
    "id": "sx_kmyKPGj4_"
   },
   "outputs": [],
   "source": [
    "X=data.drop(['Credit_Score'],axis=1)\n",
    "y=data['Credit_Score']"
   ]
  },
  {
   "cell_type": "code",
   "execution_count": null,
   "metadata": {
    "id": "uvCTLXQ7ECs7"
   },
   "outputs": [],
   "source": [
    "X_train,X_test,y_train,y_test=train_test_split(X,y,test_size=0.20,random_state=42)"
   ]
  },
  {
   "cell_type": "markdown",
   "metadata": {
    "id": "SHn8wIstSgM4"
   },
   "source": [
    "#BALANCING THE DATA"
   ]
  },
  {
   "cell_type": "markdown",
   "metadata": {
    "id": "IGw22IxDYU7_"
   },
   "source": [
    "Here we use SMOTE(synthetic minority oversampling) for handling imbalanced data"
   ]
  },
  {
   "cell_type": "code",
   "execution_count": null,
   "metadata": {
    "colab": {
     "base_uri": "https://localhost:8080/"
    },
    "id": "5F0aDXp3PvP8",
    "outputId": "2c5958b8-290f-457b-8809-1a85d88b5f7d"
   },
   "outputs": [],
   "source": [
    "from imblearn.over_sampling import SMOTE\n",
    "# Assuming X_train contains your feature vectors and y_train contains the corresponding labels\n",
    "\n",
    "# Instantiate SMOTE\n",
    "smote = SMOTE(random_state=42)\n",
    "\n",
    "# Resample the dataset\n",
    "X_train_resampled, y_train_resampled = smote.fit_resample(X_train, y_train)\n",
    "\n",
    "# Check the distribution of classes after resampling\n",
    "unique, counts = np.unique(y_train_resampled, return_counts=True)\n",
    "print(dict(zip(unique, counts)))\n"
   ]
  },
  {
   "cell_type": "code",
   "execution_count": null,
   "metadata": {
    "id": "AR73rwZtED0S"
   },
   "outputs": [],
   "source": [
    "X_train,X_test,y_train,y_test=train_test_split(X,y,test_size=0.20,random_state=42)"
   ]
  },
  {
   "cell_type": "markdown",
   "metadata": {
    "id": "lUZ4y3Pc2OlL"
   },
   "source": [
    "#MODEL BUILDING"
   ]
  },
  {
   "cell_type": "code",
   "execution_count": null,
   "metadata": {
    "id": "HnzBMQRyoAY2"
   },
   "outputs": [],
   "source": [
    "models = [['LogisticRegression ', LogisticRegression()],\n",
    "        ['DecisionTreeClassifier ', DecisionTreeClassifier()],\n",
    "        ['RandomForestClassifier ', RandomForestClassifier()],\n",
    "         ['SVC ', SVC()],['KNN',KNeighborsClassifier()]]"
   ]
  },
  {
   "cell_type": "code",
   "execution_count": null,
   "metadata": {
    "colab": {
     "background_save": true,
     "base_uri": "https://localhost:8080/"
    },
    "id": "-Cj1IokKhuJO",
    "outputId": "ea723622-6a13-4194-e60f-733f13d7c1e3"
   },
   "outputs": [],
   "source": [
    "for name, model in models:\n",
    "    model = model\n",
    "    model.fit(X_train, y_train)\n",
    "    prediction = model.predict(X_test)\n",
    "    print(name, accuracy_score(y_test, prediction))"
   ]
  },
  {
   "cell_type": "markdown",
   "metadata": {
    "id": "LE9mDAkbzb7-"
   },
   "source": [
    " KNN and RandomForestClassifier are selected for Hyperparameter Tuning based the accuracy scores"
   ]
  },
  {
   "cell_type": "markdown",
   "metadata": {
    "id": "ysX2k-8Ll2_l"
   },
   "source": [
    "# HYPERPARAMETERS FOR THEIR IMPROVED PERFORMANCE"
   ]
  },
  {
   "cell_type": "code",
   "execution_count": null,
   "metadata": {
    "colab": {
     "background_save": true
    },
    "id": "PRPbvfY7VNO1"
   },
   "outputs": [],
   "source": [
    "model_params = {\n",
    "\n",
    "    'DecisionTreeClassifier  ': {\n",
    "        'model': DecisionTreeClassifier(),\n",
    "        'params' : {\n",
    "            'criterion' : ['gini', 'entropy']\n",
    "        }\n",
    "    },\n",
    "    'Random_forest': {\n",
    "        'model': RandomForestClassifier(),\n",
    "        'params' : {\n",
    "            'n_estimators': [1,5,10]\n",
    "        }\n",
    "    },\n",
    "    'KNeighbors': {\n",
    "        'model': KNeighborsClassifier(),\n",
    "        'params' : {\n",
    "            'n_neighbors' : [5,8,10]\n",
    "        }\n",
    "    }\n",
    "\n",
    "}"
   ]
  },
  {
   "cell_type": "code",
   "execution_count": null,
   "metadata": {
    "colab": {
     "background_save": true
    },
    "id": "zlR1CggUgcoX"
   },
   "outputs": [],
   "source": [
    "#to find best parameters"
   ]
  },
  {
   "cell_type": "code",
   "execution_count": null,
   "metadata": {
    "colab": {
     "background_save": true
    },
    "id": "a-pCXNUqxDgn",
    "outputId": "dd560f3d-6b67-4a10-e728-053d80840e47"
   },
   "outputs": [],
   "source": [
    "# Dictionary to store best parameters for each model\n",
    "best_params = {}\n",
    "\n",
    "# Iterate over each model and perform hyperparameter tuning\n",
    "for model_name, model_info in model_params.items():\n",
    "    print(f\"Searching best parameters for {model_name}...\")\n",
    "    model = model_info['model']\n",
    "    params = model_info['params']\n",
    "\n",
    "    # Perform GridSearchCV\n",
    "    grid_search = GridSearchCV(model, params, cv=5, return_train_score=False)\n",
    "    grid_search.fit(X_train, y_train)  # Assuming X_train and y_train are your training data\n",
    "\n",
    "    # Store the best parameters\n",
    "    best_params[model_name] = grid_search.best_params_\n",
    "\n",
    "# Print the best parameters for each model\n",
    "for model_name, params in best_params.items():\n",
    "    print(f\"Best parameters for {model_name}: {params}\")\n"
   ]
  },
  {
   "cell_type": "code",
   "execution_count": null,
   "metadata": {
    "colab": {
     "background_save": true
    },
    "id": "PmbfEFCZ5SRK"
   },
   "outputs": [],
   "source": [
    "#modeling using best parameters"
   ]
  },
  {
   "cell_type": "code",
   "execution_count": null,
   "metadata": {
    "colab": {
     "background_save": true
    },
    "id": "8QoiEu9Gynm5",
    "outputId": "e92a42c6-6166-476e-b16b-994223bb6fa8"
   },
   "outputs": [],
   "source": [
    "# Define the Random Forest classifier with n_estimators=[10]\n",
    "rf_classifier = RandomForestClassifier(n_estimators=10)\n",
    "\n",
    "# Train the classifier with your data\n",
    "rf_classifier.fit(X_train, y_train)  # Assuming X_train and y_train are your training data\n",
    "rf_predictions=rf_classifier.predict(X_test)\n",
    "# Evaluate the model\n",
    "accuracy = accuracy_score(y_test, rf_predictions)\n",
    "print(\"Accuracy:\", accuracy)"
   ]
  },
  {
   "cell_type": "markdown",
   "metadata": {
    "id": "oU6PBhkEXA32"
   },
   "source": [
    "#HYPERTUNING"
   ]
  },
  {
   "cell_type": "code",
   "execution_count": null,
   "metadata": {
    "colab": {
     "background_save": true
    },
    "id": "4RCAgpJCVUVI"
   },
   "outputs": [],
   "source": [
    "#gridsearchcv\n",
    "scores = []\n",
    "\n",
    "for model_name, mp in model_params.items():\n",
    "    clf =  GridSearchCV(mp['model'], mp['params'], return_train_score=False)\n",
    "    clf.fit(X_train, y_train)\n",
    "    scores.append({\n",
    "        'model': model_name,\n",
    "        'best_score': clf.best_score_\n",
    "\n",
    "    })\n"
   ]
  },
  {
   "cell_type": "code",
   "execution_count": null,
   "metadata": {
    "colab": {
     "background_save": true
    },
    "id": "5B2x6JlbLeZQ"
   },
   "outputs": [],
   "source": [
    "#randomisedsearchcv\n",
    "from sklearn.model_selection import RandomizedSearchCV\n",
    "\n",
    "scores = []\n",
    "\n",
    "for model_name, mp in model_params.items():\n",
    "    clf =  RandomizedSearchCV(mp['model'], mp['params'], n_iter=10, return_train_score=False)\n",
    "    clf.fit(X_train, y_train)\n",
    "    scores.append({\n",
    "        'model': model_name,\n",
    "        'best_score': clf.best_score_\n",
    "    })\n"
   ]
  },
  {
   "cell_type": "code",
   "execution_count": null,
   "metadata": {
    "colab": {
     "background_save": true
    },
    "id": "wGl3COSf4na0",
    "outputId": "4e32816f-0e35-4884-fe92-8ddb30343485"
   },
   "outputs": [],
   "source": [
    "\n",
    "df = pd.DataFrame(scores,columns=['model','best_score'])\n",
    "df"
   ]
  },
  {
   "cell_type": "markdown",
   "metadata": {
    "id": "f01EvsGzNAgt"
   },
   "source": [
    "Here we chooses RANDOM FOREST CLASSIFIER model for further analysis."
   ]
  },
  {
   "cell_type": "markdown",
   "metadata": {
    "id": "lWKBhzwVNMFf"
   },
   "source": [
    "#CROSS VALIDATION"
   ]
  },
  {
   "cell_type": "markdown",
   "metadata": {
    "id": "v0EaQxCjOyAt"
   },
   "source": [
    "Cross validation is to assess the performance of a model and to prevent overfitting.It involves dividing the dataset into multiple subsets,using some of training the model and rest of testing,multiple times to obtain reliable performance metrics.(that is,one of these folds as a validation set and training the model on the remaining folds)."
   ]
  },
  {
   "cell_type": "code",
   "execution_count": null,
   "metadata": {
    "colab": {
     "background_save": true
    },
    "id": "RIoSS5APNUi5",
    "outputId": "e3082402-afb1-4c8b-dd84-1b9e743d7914"
   },
   "outputs": [],
   "source": [
    "# Define Random Forest classifier\n",
    "rf_classifier = RandomForestClassifier()\n",
    "\n",
    "# Define cross-validation strategy\n",
    "cv = StratifiedKFold(n_splits=5, shuffle=True, random_state=42)\n",
    "\n",
    "# Perform cross-validation\n",
    "from sklearn.model_selection import cross_val_score\n",
    "cv_scores = cross_val_score(rf_classifier, X, y, cv=cv)\n",
    "\n",
    "# Print cross-validation scores\n",
    "print(\"Cross Validation Scores:\", cv_scores)\n",
    "print(\"Mean CV Accuracy:\", np.mean(cv_scores))"
   ]
  },
  {
   "cell_type": "markdown",
   "metadata": {
    "id": "49pNJ1uAQujf"
   },
   "source": [
    "#MODEL INTERPRETABILITY"
   ]
  },
  {
   "cell_type": "markdown",
   "metadata": {
    "id": "SUQK5I8KQ8Gc"
   },
   "source": [
    " Analyze feature importance and the model's decision-making\n",
    "process."
   ]
  },
  {
   "cell_type": "code",
   "execution_count": null,
   "metadata": {
    "colab": {
     "base_uri": "https://localhost:8080/",
     "height": 1000
    },
    "id": "jhV--bCcNzr9",
    "outputId": "f2f07f36-fef5-4962-dc73-7c1125c1c078"
   },
   "outputs": [],
   "source": [
    "# Train a Random Forest classifier\n",
    "rf_classifier = RandomForestClassifier()\n",
    "rf_classifier.fit(X_train, y_train)\n",
    "\n",
    "# Analyze feature importance\n",
    "feature_importance = rf_classifier.feature_importances_\n",
    "sorted_idx = np.argsort(feature_importance)[::-1]\n",
    "\n",
    "#Print feature importance\n",
    "print(\"Feature Importance:\")\n",
    "for i in sorted_idx:\n",
    "    print(f\"{X.columns[i]}: {feature_importance[i]}\")\n",
    "\n",
    "# Visualize feature importance\n",
    "plt.figure(figsize=(10, 6))\n",
    "plt.bar(range(len(feature_importance)), feature_importance[sorted_idx], align='center')\n",
    "plt.xticks(range(len(feature_importance)), X.columns[sorted_idx], rotation=90)\n",
    "plt.xlabel('Feature')\n",
    "plt.ylabel('Importance Score')\n",
    "plt.title('Feature Importance')\n",
    "plt.show()\n",
    "\n",
    "# Make predictions on the test set\n",
    "y_pred = rf_classifier.predict(X_test)\n",
    "\n",
    "# Evaluate the model\n",
    "accuracy = accuracy_score(y_test, y_pred)\n",
    "print(\"Test Accuracy:\", accuracy)\n",
    "print(\"Classification Report:\")\n",
    "print(classification_report(y_test, y_pred))"
   ]
  },
  {
   "cell_type": "markdown",
   "metadata": {
    "id": "6JhV2kKBSj2_"
   },
   "source": [
    "**INFERENCE**\n",
    "Analyzing feature importance and the model's decision-making process in credit data can provide valuable insights into which factors are most influential in determining creditworthiness. Here are some inferences that can be made from such analysis:\n",
    "\n",
    "1. Identify Key Predictive Features: By examining feature importance, you can identify which features have the most significant impact on the model's predictions. For example, if the model assigns high importance to features such as credit score, income level, and debt-to-income ratio, it suggests that these factors strongly influence creditworthiness.\n",
    "\n",
    "2. Risk Assessment: Features with high importance indicate that they have a strong relationship with the target variable (e.g., default or non-default). Understanding these key features allows lenders to better assess the risk associated with granting credit to individuals.\n",
    "\n",
    "3. Interpretability: Feature importance analysis helps in understanding the model's decision-making process in a more interpretable way. Lenders can explain to borrowers why certain decisions were made based on specific factors such as payment behaviour, occupation, or loan amount.\n",
    "\n",
    "5. Policy Implications: Insights gained from feature importance analysis can inform policymakers and regulatory agencies about the key factors driving credit decisions. This information can be used to develop fair lending policies and regulations that promote equal access to credit for all individuals.\n",
    "\n",
    "6. Model Improvement: Understanding which features are most important allows for targeted model improvement efforts. For example, if a particular feature is highly influential but prone to missing or inaccurate data, efforts can be made to improve data quality or incorporate alternative sources of information.\n",
    "\n",
    "7. Customer Segmentation: By analyzing how different features contribute to credit decisions, lenders can segment their customer base more effectively. This can lead to tailored product offerings and pricing strategies based on the specific needs and risk profiles of different customer segments.\n",
    "\n",
    "Overall, analyzing feature importance and the model's decision-making process in credit data can provide actionable insights for lenders, policymakers, and regulators to make more informed and fair lending decisions."
   ]
  },
  {
   "cell_type": "markdown",
   "metadata": {
    "id": "SmVLlxO8Sink"
   },
   "source": [
    "#MODEL DEPLOYMENT"
   ]
  },
  {
   "cell_type": "markdown",
   "metadata": {
    "id": "PDSoNDMjUDJ3"
   },
   "source": [
    "A web application is developed using HTML and Flask web framework which is capable of predicting  inputs."
   ]
  },
  {
   "cell_type": "code",
   "execution_count": null,
   "metadata": {
    "colab": {
     "base_uri": "https://localhost:8080/"
    },
    "id": "_OnoNsCbaRqE",
    "outputId": "d852e3aa-c8ea-40f8-cca9-c0f39fa57b56"
   },
   "outputs": [],
   "source": [
    "# Define the Random Forest classifier with n_estimators=[10]\n",
    "model = RandomForestClassifier(n_estimators=10)\n",
    "\n",
    "# Train the classifier with your data\n",
    "model.fit(X_train, y_train)  # Assuming X_train and y_train are your training data\n",
    "model_predictions=model.predict(X_test)\n",
    "# Evaluate the model\n",
    "accuracy = accuracy_score(y_test, model_predictions)\n",
    "print(\"Accuracy:\", accuracy)\n",
    "pickle.dump(model,open('model.pkl','wb'))#save trained model."
   ]
  },
  {
   "cell_type": "code",
   "execution_count": null,
   "metadata": {
    "id": "OaEHED2HoJ1a"
   },
   "outputs": [],
   "source": [
    "# Load the trained model from the file\n",
    "model=pickle.load(open('model.pkl','rb'))"
   ]
  },
  {
   "cell_type": "code",
   "execution_count": null,
   "metadata": {
    "id": "MjaQndMMoKta"
   },
   "outputs": [],
   "source": []
  }
 ],
 "metadata": {
  "colab": {
   "gpuType": "T4",
   "provenance": []
  },
  "kernelspec": {
   "display_name": "Python 3 (ipykernel)",
   "language": "python",
   "name": "python3"
  },
  "language_info": {
   "codemirror_mode": {
    "name": "ipython",
    "version": 3
   },
   "file_extension": ".py",
   "mimetype": "text/x-python",
   "name": "python",
   "nbconvert_exporter": "python",
   "pygments_lexer": "ipython3",
   "version": "3.11.5"
  }
 },
 "nbformat": 4,
 "nbformat_minor": 1
}
